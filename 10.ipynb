{
 "cells": [
  {
   "cell_type": "markdown",
   "metadata": {},
   "source": [
    "Провести дисперсионный анализ для определения того, есть ли различия среднего роста среди взрослых футболистов, хоккеистов и штангистов. Даны значения роста в трех группах случайно выбранных спортсменов: <br>Футболисты: 173, 175, 180, 178, 177, 185, 183, 182. <br>Хоккеисты: 177, 179, 180, 188, 177, 172, 171, 184, 180. <br>Штангисты: 172, 173, 169, 177, 166, 180, 178, 177, 172, 166, 170. "
   ]
  },
  {
   "cell_type": "code",
   "execution_count": 85,
   "metadata": {},
   "outputs": [],
   "source": [
    "import numpy as np\n",
    "from scipy import stats"
   ]
  },
  {
   "cell_type": "markdown",
   "metadata": {},
   "source": [
    "$H0 : \\mu_1=\\mu_2=\\mu_3$ <br>\n",
    "$H1: \\mu_1\\neq\\mu_2\\neq\\mu_3$"
   ]
  },
  {
   "cell_type": "code",
   "execution_count": 86,
   "metadata": {},
   "outputs": [],
   "source": [
    "a=0.05\n",
    "football=np.array([173, 175, 180, 178, 177, 185, 183, 182])\n",
    "hockey=np.array([177, 179, 180, 188, 177, 172, 171, 184, 180])\n",
    "weightlifting=np.array([172, 173, 169, 177, 166, 180, 178, 177, 172, 166, 170])"
   ]
  },
  {
   "cell_type": "code",
   "execution_count": 87,
   "metadata": {},
   "outputs": [
    {
     "name": "stdout",
     "output_type": "stream",
     "text": [
      "Футболисты: длина = 8, среднее значение = 179.12, statistic = 0.97751, p-value = 0.94954, данные распределены нормально\n",
      "Хоккеисты: длина = 9, среднее значение = 178.67, statistic = 0.95792, p-value = 0.77631, данные распределены нормально\n",
      "Штангисты: длина = 11, среднее значение = 172.73, statistic = 0.93868, p-value = 0.50512, данные распределены нормально\n"
     ]
    }
   ],
   "source": [
    "def print_result(arr, str):\n",
    "    s, p = stats.shapiro(arr)\n",
    "    print(f'{str}: длина = {len(arr)}, среднее значение = {arr.mean():.2f}, statistic = {s:.5f}, p-value = {p:.5f},', 'данные распределены нормально' if p > a else '')\n",
    "\n",
    "print_result(football, 'Футболисты')\n",
    "print_result(hockey, 'Хоккеисты')\n",
    "print_result(weightlifting, 'Штангисты')"
   ]
  },
  {
   "cell_type": "markdown",
   "metadata": {},
   "source": [
    "Проверим равенство дисперсий."
   ]
  },
  {
   "cell_type": "code",
   "execution_count": 88,
   "metadata": {},
   "outputs": [
    {
     "data": {
      "text/plain": [
       "BartlettResult(statistic=0.4640521043406442, pvalue=0.7929254656083131)"
      ]
     },
     "execution_count": 88,
     "metadata": {},
     "output_type": "execute_result"
    }
   ],
   "source": [
    "stats.bartlett(football, hockey, weightlifting)"
   ]
  },
  {
   "cell_type": "code",
   "execution_count": 89,
   "metadata": {},
   "outputs": [
    {
     "name": "stdout",
     "output_type": "stream",
     "text": [
      "statistic = 5.50005\n",
      "p-value = 0.01048\n",
      "Отвергаем нулевую гипотезу\n"
     ]
    }
   ],
   "source": [
    "s, p = stats.f_oneway(football, hockey, weightlifting)\n",
    "\n",
    "print(f'statistic = {s:.5f}\\np-value = {p:.5f}', 'Нулевая гипотеза не отвергается' if p > a else 'Отвергаем нулевую гипотезу', sep='\\n')"
   ]
  }
 ],
 "metadata": {
  "kernelspec": {
   "display_name": "Python 3",
   "language": "python",
   "name": "python3"
  },
  "language_info": {
   "codemirror_mode": {
    "name": "ipython",
    "version": 3
   },
   "file_extension": ".py",
   "mimetype": "text/x-python",
   "name": "python",
   "nbconvert_exporter": "python",
   "pygments_lexer": "ipython3",
   "version": "3.12.0"
  }
 },
 "nbformat": 4,
 "nbformat_minor": 2
}
